{
 "cells": [
  {
   "cell_type": "code",
   "execution_count": 1,
   "metadata": {},
   "outputs": [],
   "source": [
    "import cvxpy as cp\n",
    "import numpy as np\n",
    "import dccp\n",
    "import numpy.typing as npt\n",
    "from enum import Enum\n",
    "from multireward_ope.tabular.mdp import MDP\n",
    "from multireward_ope.tabular.characteristic_time import CharacteristicTimeSolver\n",
    "from multireward_ope.tabular.reward_set import RewardSetCircle, \\\n",
    "    RewardSetRewardFree, RewardSetPolytope, RewardSetFinite\n",
    "from typing import NamedTuple\n",
    "from multireward_ope.tabular.envs.riverswim import RiverSwim, RiverSwimParameters\n",
    "from multireward_ope.tabular.policy import Policy, PolicyFactory\n",
    "import matplotlib.pyplot as plt\n",
    "from scipy.special import xlogy, rel_entr"
   ]
  },
  {
   "cell_type": "code",
   "execution_count": 4,
   "metadata": {},
   "outputs": [
    {
     "data": {
      "text/plain": [
       "array([[0.5       , 0.5       ],\n",
       "       [0.70335372, 0.29664628],\n",
       "       [0.47437582, 0.52562418],\n",
       "       [1.        , 0.        ]])"
      ]
     },
     "execution_count": 4,
     "metadata": {},
     "output_type": "execute_result"
    }
   ],
   "source": [
    "values = []\n",
    "num_states = range(2,5)\n",
    "for s in num_states:\n",
    "    env = RiverSwimParameters(num_states=s).build()\n",
    "\n",
    "    policy = np.zeros(env.dim_state, dtype=np.ulong)\n",
    "\n",
    "    policy_stochastic = np.zeros((env.dim_state, env.dim_action))\n",
    "    policy_stochastic[np.arange(env.dim_state), policy] = 1\n",
    "\n",
    "    rewards_set = np.zeros((1, env.dim_state))\n",
    "    rewards_set[0,0]=1\n",
    "    rewards = RewardSetFinite(env.dim_state, env.dim_action,\n",
    "                            RewardSetFinite.RewardSetFiniteConfig(rewards_set))\n",
    "    solver = CharacteristicTimeSolver(env.dim_state, env.dim_action, solver=cp.CLARABEL)\n",
    "\n",
    "    solver.build_problem(rewards)\n",
    "    res = solver.solve(0.95, env, policy)\n",
    "    w_pol = res.w / res.w.sum(-1, keepdims=True)\n",
    "    err = np.linalg.norm( (w_pol - policy_stochastic), ord=1, axis=-1).mean(0)\n",
    "    values.append(err)\n",
    "\n",
    "w_pol"
   ]
  }
 ],
 "metadata": {
  "kernelspec": {
   "display_name": ".venv",
   "language": "python",
   "name": "python3"
  },
  "language_info": {
   "codemirror_mode": {
    "name": "ipython",
    "version": 3
   },
   "file_extension": ".py",
   "mimetype": "text/x-python",
   "name": "python",
   "nbconvert_exporter": "python",
   "pygments_lexer": "ipython3",
   "version": "3.11.9"
  }
 },
 "nbformat": 4,
 "nbformat_minor": 2
}
