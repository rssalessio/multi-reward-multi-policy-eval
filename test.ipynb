{
 "cells": [
  {
   "cell_type": "code",
   "execution_count": 1,
   "metadata": {},
   "outputs": [
    {
     "name": "stdout",
     "output_type": "stream",
     "text": [
      "BoundResult(value=2.893645231711979, w=array([[2.57431217e-01, 6.41352227e-09],\n",
      "       [0.00000000e+00, 2.75790028e-01],\n",
      "       [3.54239946e-01, 1.12538809e-01]]))\n",
      "BoundResult(value=2.893645240304091, w=array([[2.57431217e-01, 6.41306443e-09],\n",
      "       [0.00000000e+00, 2.75790028e-01],\n",
      "       [3.54239947e-01, 1.12538809e-01]]))\n",
      "BoundResult(value=2.893645210348486, w=array([[2.57431217e-01, 6.45634986e-09],\n",
      "       [0.00000000e+00, 2.75790028e-01],\n",
      "       [3.54239947e-01, 1.12538809e-01]]))\n"
     ]
    }
   ],
   "source": [
    "import cvxpy as cp\n",
    "import numpy as np\n",
    "import dccp\n",
    "import numpy.typing as npt\n",
    "from enum import Enum\n",
    "from multireward_ope.tabular.mdp import MDP\n",
    "from multireward_ope.tabular.characteristic_time import CharacteristicTimeSolver\n",
    "from multireward_ope.tabular.reward_set import RewardSet, RewardSetCircle, RewardSetType, RewardSetRewardFree, RewardSetBox\n",
    "from typing import NamedTuple\n",
    "\n",
    "\n",
    "mdp = MDP.generate_random_mdp(3, 2)\n",
    "policy = np.array([0, 1, 0], dtype=np.long)\n",
    "rewards = RewardSetCircle(mdp.dim_state, np.zeros(mdp.dim_state), radius=1, p=2)\n",
    "rbox = RewardSetBox(mdp.dim_state, np.zeros(mdp.dim_state), np.ones(mdp.dim_state))\n",
    "rfree = RewardSetRewardFree(mdp.dim_state)\n",
    "solver = CharacteristicTimeSolver(mdp.dim_state, mdp.dim_action)\n",
    "solver.build_problem(rewards)\n",
    "\n",
    "print(solver.solve(0.9, mdp, policy))\n",
    "\n",
    "solver.build_problem(rfree)\n",
    "print(solver.solve(0.9, mdp, policy))\n",
    "\n",
    "solver.build_problem(rbox)\n",
    "print(solver.solve(0.9, mdp, policy))\n",
    "        \n"
   ]
  }
 ],
 "metadata": {
  "kernelspec": {
   "display_name": ".venv",
   "language": "python",
   "name": "python3"
  },
  "language_info": {
   "codemirror_mode": {
    "name": "ipython",
    "version": 3
   },
   "file_extension": ".py",
   "mimetype": "text/x-python",
   "name": "python",
   "nbconvert_exporter": "python",
   "pygments_lexer": "ipython3",
   "version": "3.11.9"
  }
 },
 "nbformat": 4,
 "nbformat_minor": 2
}
